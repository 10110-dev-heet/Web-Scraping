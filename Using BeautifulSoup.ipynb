{
 "cells": [
  {
   "cell_type": "code",
   "execution_count": 1,
   "metadata": {},
   "outputs": [],
   "source": [
    "html='<!DOCTYPE html>\\\n",
    "<html>\\\n",
    "  <head>\\\n",
    "     <title> Testing Web Page</title>\\\n",
    "  </head>\\\n",
    "  <body>\\\n",
    "      <h1>Web Scraping</h1>\\\n",
    "      <p class=\"abc\" id=\"first_para\">\\\n",
    "          Let\\'s Start Learning\\\n",
    "           <b>\\\n",
    "              Web Scraping\\\n",
    "           </b>\\\n",
    "         </p>\\\n",
    "       <p id=\"def\">\\\n",
    "         You can read more about BeautifulSoup from <a href=\"https://www.crummy.com/software/BeautifulSoup/bs4/doc/\">here</a>\\\n",
    "       </p>\\\n",
    "       <p class=\"abc\">\\\n",
    "           <a href=\"https://www.codingninjas.in/\">Coding Ninjas</a>\\\n",
    "       </p>\\\n",
    "   </body>\\\n",
    "</html>'"
   ]
  },
  {
   "cell_type": "code",
   "execution_count": 2,
   "metadata": {},
   "outputs": [],
   "source": [
    "from bs4 import BeautifulSoup"
   ]
  },
  {
   "cell_type": "code",
   "execution_count": 4,
   "metadata": {},
   "outputs": [
    {
     "data": {
      "text/plain": [
       "<!DOCTYPE html>\n",
       "<html> <head> <title> Testing Web Page</title> </head> <body> <h1>Web Scraping</h1> <p class=\"abc\" id=\"first_para\">          Let's Start Learning           <b>              Web Scraping           </b> </p> <p id=\"def\">         You can read more about BeautifulSoup from <a href=\"https://www.crummy.com/software/BeautifulSoup/bs4/doc/\">here</a> </p> <p class=\"abc\"> <a href=\"https://www.codingninjas.in/\">Coding Ninjas</a> </p> </body></html>"
      ]
     },
     "execution_count": 4,
     "metadata": {},
     "output_type": "execute_result"
    }
   ],
   "source": [
    "data=BeautifulSoup(html,'html.parser')\n",
    "data"
   ]
  },
  {
   "cell_type": "code",
   "execution_count": 6,
   "metadata": {},
   "outputs": [
    {
     "name": "stdout",
     "output_type": "stream",
     "text": [
      "<!DOCTYPE html>\n",
      "<html>\n",
      " <head>\n",
      "  <title>\n",
      "   Testing Web Page\n",
      "  </title>\n",
      " </head>\n",
      " <body>\n",
      "  <h1>\n",
      "   Web Scraping\n",
      "  </h1>\n",
      "  <p class=\"abc\" id=\"first_para\">\n",
      "   Let's Start Learning\n",
      "   <b>\n",
      "    Web Scraping\n",
      "   </b>\n",
      "  </p>\n",
      "  <p id=\"def\">\n",
      "   You can read more about BeautifulSoup from\n",
      "   <a href=\"https://www.crummy.com/software/BeautifulSoup/bs4/doc/\">\n",
      "    here\n",
      "   </a>\n",
      "  </p>\n",
      "  <p class=\"abc\">\n",
      "   <a href=\"https://www.codingninjas.in/\">\n",
      "    Coding Ninjas\n",
      "   </a>\n",
      "  </p>\n",
      " </body>\n",
      "</html>\n"
     ]
    }
   ],
   "source": [
    "print(data.prettify())"
   ]
  },
  {
   "cell_type": "code",
   "execution_count": 7,
   "metadata": {},
   "outputs": [
    {
     "data": {
      "text/plain": [
       "<title> Testing Web Page</title>"
      ]
     },
     "execution_count": 7,
     "metadata": {},
     "output_type": "execute_result"
    }
   ],
   "source": [
    "data.title"
   ]
  },
  {
   "cell_type": "code",
   "execution_count": 8,
   "metadata": {},
   "outputs": [
    {
     "data": {
      "text/plain": [
       "<head> <title> Testing Web Page</title> </head>"
      ]
     },
     "execution_count": 8,
     "metadata": {},
     "output_type": "execute_result"
    }
   ],
   "source": [
    "data.head"
   ]
  },
  {
   "cell_type": "code",
   "execution_count": 9,
   "metadata": {},
   "outputs": [
    {
     "data": {
      "text/plain": [
       "<body> <h1>Web Scraping</h1> <p class=\"abc\" id=\"first_para\">          Let's Start Learning           <b>              Web Scraping           </b> </p> <p id=\"def\">         You can read more about BeautifulSoup from <a href=\"https://www.crummy.com/software/BeautifulSoup/bs4/doc/\">here</a> </p> <p class=\"abc\"> <a href=\"https://www.codingninjas.in/\">Coding Ninjas</a> </p> </body>"
      ]
     },
     "execution_count": 9,
     "metadata": {},
     "output_type": "execute_result"
    }
   ],
   "source": [
    "data.body"
   ]
  },
  {
   "cell_type": "code",
   "execution_count": 10,
   "metadata": {},
   "outputs": [
    {
     "data": {
      "text/plain": [
       "<p class=\"abc\" id=\"first_para\">          Let's Start Learning           <b>              Web Scraping           </b> </p>"
      ]
     },
     "execution_count": 10,
     "metadata": {},
     "output_type": "execute_result"
    }
   ],
   "source": [
    "data.p"
   ]
  },
  {
   "cell_type": "code",
   "execution_count": null,
   "metadata": {},
   "outputs": [],
   "source": []
  }
 ],
 "metadata": {
  "kernelspec": {
   "display_name": "Python 3",
   "language": "python",
   "name": "python3"
  },
  "language_info": {
   "codemirror_mode": {
    "name": "ipython",
    "version": 3
   },
   "file_extension": ".py",
   "mimetype": "text/x-python",
   "name": "python",
   "nbconvert_exporter": "python",
   "pygments_lexer": "ipython3",
   "version": "3.8.3"
  }
 },
 "nbformat": 4,
 "nbformat_minor": 4
}
