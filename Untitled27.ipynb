{
 "cells": [
  {
   "cell_type": "markdown",
   "metadata": {},
   "source": [
    "## Apis"
   ]
  },
  {
   "cell_type": "code",
   "execution_count": 1,
   "metadata": {},
   "outputs": [],
   "source": [
    "import requests\n"
   ]
  },
  {
   "cell_type": "code",
   "execution_count": 2,
   "metadata": {},
   "outputs": [
    {
     "name": "stdout",
     "output_type": "stream",
     "text": [
      "200\n",
      "https://codingninjas.in/api/v3/courses\n",
      "{\"data\":{\"courses\":[{\"id\":73,\"title\":\"System Design Course\",\"online_title\":\"system-design-course\",\"offline_title\":\"\",\"name\":\"System Design Course\",\"level\":\"Foundation Courses\",\"brief_intro\":\"Brief Intro\",\"preview_image_url\":\"https://ninjasfiles.s3.amazonaws.com/0000000000001178.png\",\"available_online\":true,\"available_offline\":false,\"is_career_track\":false,\"course_group_id\":1,\"classroom_icon_url\":\"https://files.codingninjas.com/system-design-icon-11401.svg\"},{\"id\":41,\"title\":\"Premium Competitive Course\",\"online_title\":\"premium-competitive-course\",\"offline_title\":\"\",\"name\":\"Premium Competitive Programming Course\",\"level\":\"Foundation Courses\",\"brief_intro\":\"\",\"preview_image_url\":\"\",\"available_online\":true,\"available_offline\":false,\"is_career_track\":false,\"course_group_id\":7,\"classroom_icon_url\":\"https://files.codingninjas.in/0000000000003765.png\"},{\"id\":1,\"title\":\"C++ \\u0026 Data Structures\",\"online_title\":\"onlline-c-plus-plus-course\",\"offline_title\":\"classroom-c-plus-plus-course\",\"name\":\"C++ Foundation with Data Structures\",\"level\":\"Foundation Courses\",\"brief_intro\":\"Brief Intro\",\"preview_image_url\":\"https://files.codingninjas.in/0000000000001176.png\",\"available_online\":true,\"available_offline\":false,\"is_career_track\":false,\"course_group_id\":1,\"classroom_icon_url\":\"https://files.codingninjas.in/0000000000003771.png\"},{\"id\":16,\"title\":\"Competitive Programmer\",\"online_title\":\"online-competitive-programming-track\",\"offline_title\":\"\",\"name\":\"Ninja Competitive Programmer Track\",\"level\":\"Career Tracks\",\"brief_intro\":\"Competitive Track\",\"preview_image_url\":\"https://files.codingninjas.in/0000000000001177.png\",\"available_online\":true,\"available_offline\":false,\"is_career_track\":true,\"course_group_id\":3,\"classroom_icon_url\":\"https://files.codingninjas.in/0000000000003775.png\"},{\"id\":44,\"title\":\"Premium Machine Learning Course\",\"online_title\":\"premium-machine-learning-course\",\"offline_title\":\"\",\"name\":\"Premium Machine Learning Course\",\"level\":\"Foundation Courses\",\"brief_intro\":\"\",\"preview_image_url\":\"\",\"available_online\":true,\"available_offline\":false,\"is_career_track\":false,\"course_group_id\":7,\"classroom_icon_url\":\"https://files.codingninjas.in/0000000000003765.png\"},{\"id\":40,\"title\":\"Data structures and Algorithms [C++/Java/Python]\",\"online_title\":\"premium-foundation-course\",\"offline_title\":\"\",\"name\":\"Premium Data structures and Algorithms [C++/Java/Python]\",\"level\":\"Foundation Courses\",\"brief_intro\":\"\",\"preview_image_url\":\"\",\"available_online\":true,\"available_offline\":false,\"is_career_track\":false,\"course_group_id\":7,\"classroom_icon_url\":\"https://files.codingninjas.in/0000000000003765.png\"},{\"id\":45,\"title\":\"Premium Android Course\",\"online_title\":\"premium-android-app-development-course\",\"offline_title\":\"\",\"name\":\"Premium Android App Development\",\"level\":\"Foundation Courses\",\"brief_intro\":\"\",\"preview_image_url\":\"\",\"available_online\":true,\"available_offline\":false,\"is_career_track\":false,\"course_group_id\":7,\"classroom_icon_url\":\"https://files.codingninjas.in/0000000000003765.png\"},{\"id\":6,\"title\":\"Machine Learning\",\"online_title\":\"online-machine-learning-course\",\"offline_title\":\"classroom-machine-learning-course\",\"name\":\"Machine Learning \\u0026 Deep Learning Course\",\"level\":\"Advanced Courses\",\"brief_intro\":\"Machine learning engineers build, implement, and maintain machine learning systems in technology products.\",\"preview_image_url\":\"https://ninjasfiles.s3.amazonaws.com/0000000000001181.png\",\"available_online\":true,\"available_offline\":false,\"is_career_track\":false,\"course_group_id\":2,\"classroom_icon_url\":\"https://files.codingninjas.in/0000000000003766.png\"},{\"id\":42,\"title\":\"Premium Web Dev Course\",\"online_title\":\"premium-full-stack-web-development-course\",\"offline_title\":\"\",\"name\":\"Premium Full Stack Web Development\",\"level\":\"Foundation Courses\",\"brief_intro\":\"\",\"preview_image_url\":\"\",\"available_online\":true,\"available_offline\":false,\"is_career_track\":false,\"course_group_id\":7,\"classroom_icon_url\":\"https://files.codingninjas.in/0000000000003765.png\"},{\"id\":34,\"title\":\"Front End (React)\",\"online_title\":\"online-web-dev-with-react\",\"offline_title\":\"\",\"name\":\"Advanced  Front-End Web Development with React\",\"level\":\"Development Courses\",\"brief_intro\":\"Advanced  Front-End Web Development with React\",\"preview_image_url\":\"https://ninjasfiles.s3.amazonaws.com/0000000000001179.png\",\"available_online\":true,\"available_offline\":false,\"is_career_track\":false,\"course_group_id\":2,\"classroom_icon_url\":\"https://files.codingninjas.in/0000000000003769.png\"},{\"id\":43,\"title\":\"Premium Data Science Course\",\"online_title\":\"premium-data-science-course\",\"offline_title\":\"\",\"name\":\"Premium Data Science Course\",\"level\":\"Foundation Courses\",\"brief_intro\":\"\",\"preview_image_url\":\"\",\"available_online\":true,\"available_offline\":false,\"is_career_track\":false,\"course_group_id\":7,\"classroom_icon_url\":\"https://files.codingninjas.in/0000000000003765.png\"},{\"id\":12,\"title\":\"Web Dev (Full Stack)\",\"online_title\":\"online-full-stack-node-js-web-dev-course\",\"offline_title\":\"\",\"name\":\"Full Stack Web Development\",\"level\":\"Development Courses\",\"brief_intro\":\"Web Development\",\"preview_image_url\":\"https://ninjasfiles.s3.amazonaws.com/0000000000001179.png\",\"available_online\":true,\"available_offline\":false,\"is_career_track\":false,\"course_group_id\":2,\"classroom_icon_url\":\"https://files.codingninjas.in/0000000000003764.png\"},{\"id\":2,\"title\":\"Java \\u0026 Data Structures\",\"online_title\":\"online-java-course\",\"offline_title\":\"classroom-java-course\",\"name\":\"JAVA Foundation with Data Structures\",\"level\":\"Foundation Courses\",\"brief_intro\":\"Brief Intro\",\"preview_image_url\":\"https://ninjasfiles.s3.amazonaws.com/0000000000001255.png\",\"available_online\":true,\"available_offline\":false,\"is_career_track\":false,\"course_group_id\":1,\"classroom_icon_url\":\"https://files.codingninjas.in/0000000000003772.png\"},{\"id\":35,\"title\":\"Android Developer\",\"online_title\":\"online-android-development-career-track\",\"offline_title\":\"\",\"name\":\"Ninja Android Developer Career Track \",\"level\":\"Career Tracks\",\"brief_intro\":\"beginner to pro Android Developer!\",\"preview_image_url\":\"https://ninjasfiles.s3.amazonaws.com/0000000000001175.png\",\"available_online\":true,\"available_offline\":false,\"is_career_track\":true,\"course_group_id\":3,\"classroom_icon_url\":\"https://files.codingninjas.in/0000000000003774.png\"},{\"id\":66,\"title\":\"Grokking the Operating Systems Interview\",\"online_title\":\"operating-system\",\"offline_title\":\"\",\"name\":\"Grokking the Operating Systems Interview\",\"level\":\"Foundation Courses\",\"brief_intro\":\"Brief Intro\",\"preview_image_url\":\"https://ninjasfiles.s3.amazonaws.com/0000000000001178.png\",\"available_online\":true,\"available_offline\":false,\"is_career_track\":false,\"course_group_id\":1,\"classroom_icon_url\":\"https://files.codingninjas.in/ubuntu-brands-10404.png\"},{\"id\":36,\"title\":\"Python \\u0026 Web Dev (MERN)\",\"online_title\":\"ninja-web-developer-career-track-mern-stack\",\"offline_title\":\"\",\"name\":\"Ninja  Web Developer Career Track - NodeJS \\u0026 ReactJs\",\"level\":\"Career Tracks\",\"brief_intro\":\"Programming foundation + MERN Stack Web Development complete Career Track\",\"preview_image_url\":\"https://ninjasfiles.s3.amazonaws.com/0000000000001179.png\",\"available_online\":true,\"available_offline\":false,\"is_career_track\":true,\"course_group_id\":3,\"classroom_icon_url\":\"https://files.codingninjas.in/0000000000003777.png\"},{\"id\":4,\"title\":\"Interview Preparation\",\"online_title\":\"online-interview-preparation\",\"offline_title\":\"classroom-interview-preparation\",\"name\":\"Interview Preparation Course\",\"level\":\"Advanced Courses\",\"brief_intro\":\"Brief Intro\",\"preview_image_url\":\"https://ninjasfiles.s3.amazonaws.com/0000000000001178.png\",\"available_online\":true,\"available_offline\":false,\"is_career_track\":false,\"course_group_id\":1,\"classroom_icon_url\":\"https://files.codingninjas.in/0000000000003765.png\"},{\"id\":13,\"title\":\"Data Science\",\"online_title\":\"online-data-science-course\",\"offline_title\":\"\",\"name\":\"Data Science \\u0026 Machine Learning Complete\",\"level\":\"Advanced Courses\",\"brief_intro\":\"Brief Intro\",\"preview_image_url\":\"https://ninjasfiles.s3.amazonaws.com/0000000000001371.png\",\"available_online\":true,\"available_offline\":false,\"is_career_track\":false,\"course_group_id\":2,\"classroom_icon_url\":\"https://files.codingninjas.in/0000000000003763.png\"},{\"id\":10,\"title\":\"Competitive Programming\",\"online_title\":\"online-competitive-programming-course\",\"offline_title\":\"\",\"name\":\"Competitive Programming Course\",\"level\":\"Advanced Courses\",\"brief_intro\":\"Eminence\",\"preview_image_url\":\"https://ninjasfiles.s3.amazonaws.com/0000000000001177.png\",\"available_online\":true,\"available_offline\":false,\"is_career_track\":false,\"course_group_id\":1,\"classroom_icon_url\":\"https://files.codingninjas.in/0000000000003762.png\"},{\"id\":17,\"title\":\"C++ \\u0026 Web Dev (Node.js)\",\"online_title\":\"web-developer-career-track\",\"offline_title\":\"\",\"name\":\"Ninja  Web Developer Career Track - NodeJS\",\"level\":\"Career Tracks\",\"brief_intro\":\"Programming foundation + Full Stack Web Development Career Track\",\"preview_image_url\":\"https://ninjasfiles.s3.amazonaws.com/0000000000001179.png\",\"available_online\":true,\"available_offline\":false,\"is_career_track\":true,\"course_group_id\":3,\"classroom_icon_url\":\"https://files.codingninjas.in/0000000000003777.png\"},{\"id\":11,\"title\":\"Python \\u0026 Data Structures\",\"online_title\":\"online-python-course\",\"offline_title\":\"offline-python-course\",\"name\":\"Python Foundation with Data Structures\",\"level\":\"Foundation Courses\",\"brief_intro\":\"Python Foundation\",\"preview_image_url\":\"https://ninjasfiles.s3.amazonaws.com/0000000000001282.png\",\"available_online\":true,\"available_offline\":false,\"is_career_track\":false,\"course_group_id\":1,\"classroom_icon_url\":\"https://files.codingninjas.in/0000000000003773.png\"},{\"id\":18,\"title\":\"Data Scientist\",\"online_title\":\"data-Scientist-career-track\",\"offline_title\":\"\",\"name\":\"Ninja Data Scientist Career Track\",\"level\":\"Career Tracks\",\"brief_intro\":\"Programming foundation + Data Science with ML career track\",\"preview_image_url\":\"https://ninjasfiles.s3.amazonaws.com/0000000000001371.png\",\"available_online\":true,\"available_offline\":false,\"is_career_track\":true,\"course_group_id\":3,\"classroom_icon_url\":\"https://files.codingninjas.in/0000000000003778.png\"},{\"id\":33,\"title\":\"Android (Kotlin)\",\"online_title\":\"online-android-Development-kotlin\",\"offline_title\":\"\",\"name\":\"Android Development with Kotlin\",\"level\":\"Development Courses\",\"brief_intro\":\"Android Development Kotlin\",\"preview_image_url\":\"https://ninjasfiles.s3.amazonaws.com/0000000000001175.png\",\"available_online\":true,\"available_offline\":false,\"is_career_track\":false,\"course_group_id\":2,\"classroom_icon_url\":\"https://files.codingninjas.in/0000000000003761.png\"},{\"id\":19,\"title\":\"Machine Learning\",\"online_title\":\"machine-learning-engineer-career-track\",\"offline_title\":\"\",\"name\":\"Ninja Machine Learning Engineer Career Track\",\"level\":\"Career Tracks\",\"brief_intro\":\"Programming foundation + Machine Learning career track\",\"preview_image_url\":\"https://ninjasfiles.s3.amazonaws.com/0000000000001181.png\",\"available_online\":true,\"available_offline\":false,\"is_career_track\":true,\"course_group_id\":3,\"classroom_icon_url\":\"https://files.codingninjas.in/0000000000003776.png\"},{\"id\":21,\"title\":\"Aptitude Preparation\",\"online_title\":\"online-aptitude-preparation\",\"offline_title\":\"\",\"name\":\"Aptitude Preparation Course\",\"level\":\"Foundation Courses\",\"brief_intro\":\"Brief Intro\",\"preview_image_url\":\"https://ninjasfiles.s3.amazonaws.com/0000000000001178.png\",\"available_online\":true,\"available_offline\":false,\"is_career_track\":false,\"course_group_id\":1,\"classroom_icon_url\":\"https://files.codingninjas.in/0000000000003770.png\"}],\"course_groups\":[{\"id\":1,\"name\":\"Foundation, Algorithmic \\u0026 Advanced\",\"order\":1,\"course_ids\":[73,1,2,66,4,10,11,21],\"json_data\":{\"color\":\"#FFEBC2\",\"image_link\":\"https://ninjasfiles.s3.amazonaws.com/0000000000003821.png\",\"text_color\":\"#AC933C\",\"short_description\":\"Foundation courses are designed such that \\u003cstrong\\u003eno prerequisites are required.\\u003c/strong\\u003e Data Structures(DS) and Algorithms(algo.) parts build on the basics to give you a \\u003cstrong\\u003esolid programming foundation\\u003c/strong\\u003e. Competitive is where you start to \\u003cstrong\\u003epush the boundaries!\\u003c/strong\\u003e\",\"mobile_short_description\":\"Foundation courses are designed such that \\u003cspan\\u003eno prerequisites are required.\\u003c/span\\u003e\"},\"is_independent\":false},{\"id\":2,\"name\":\"Data \\u0026 Development\",\"order\":2,\"course_ids\":[6,34,12,13,33],\"json_data\":{\"color\":\"#80D4B1\",\"image_link\":\"https://files.codingninjas.in/0000000000003846.svg\",\"text_color\":\"#257D68\",\"short_description\":\"Data courses dwell in the state of the art algorithms and require good knowledge of programming fundamentals. Web development courses use modern JavaScript to build powerful and fast applications from the ground up. \\u003cstrong\\u003eNo prior development experience needed\\u003c/strong\\u003e\",\"mobile_short_description\":\"Data courses dwell in the state of the art algorithms and require good knowledge of programming fundamentals. Web development courses use modern JavaScript to build powerful and fast applications from the ground up. \\u003cspan\\u003eNo prior development experience needed\\u003c/span\\u003e\"},\"is_independent\":false},{\"id\":3,\"name\":\"Career Track\",\"order\":3,\"course_ids\":[16,35,36,17,18,19],\"json_data\":{\"color\":\"#C898FF\",\"image_link\":\"https://files.codingninjas.in/0000000000003845.svg\",\"text_color\":\"#603CAC\",\"short_description\":\"These are courses that take you from \\u003cstrong\\u003ezero to hero\\u003c/strong\\u003e. Each track is designed specifically to cater to a particular goal you can choose and \\u003cstrong\\u003ecovers everything you need to learn and assumes no prior knowledge.\\u003c/strong\\u003e\",\"mobile_short_description\":\"Each track is designed specifically to cater to a particular goal you can choose and \\u003cspan\\u003ecovers everything you need to learn and assumes no prior knowledge.\\u003c/span\\u003e\"},\"is_independent\":true},{\"id\":7,\"name\":\"Premium Course\",\"order\":null,\"course_ids\":[41,44,40,45,42,43],\"json_data\":null,\"is_independent\":true}]},\"message\":\"Courses\",\"status\":200,\"error\":null,\"disabled\":false,\"update\":false,\"external_rating\":null}\n",
      "application/json\n"
     ]
    }
   ],
   "source": [
    "re=requests.get('https://codingninjas.in/api/v3/courses')\n",
    "print(re.status_code)\n",
    "print(re.url)\n",
    "#print(re.encoding)\n",
    "print(re.text)\n",
    "print(re.headers['Content-Type'])"
   ]
  },
  {
   "cell_type": "code",
   "execution_count": 3,
   "metadata": {},
   "outputs": [
    {
     "name": "stdout",
     "output_type": "stream",
     "text": [
      "http://api.open-notify.org/iss-pass.\n"
     ]
    }
   ],
   "source": [
    "re=requests.get('http://api.open-notify.org/iss-pass.')\n",
    "re.status_code\n",
    "print(re.url)\n",
    "#print(re.headers['application/json; charset=UTF-8'])"
   ]
  },
  {
   "cell_type": "code",
   "execution_count": 4,
   "metadata": {},
   "outputs": [
    {
     "name": "stdout",
     "output_type": "stream",
     "text": [
      "{'Student': 'Mohit'}\n"
     ]
    }
   ],
   "source": [
    "import json\n",
    "json_data='{\"Student\":\"Mohit\"}'\n",
    "py_data=json.loads(json_data)\n",
    "print(py_data)"
   ]
  },
  {
   "cell_type": "code",
   "execution_count": 5,
   "metadata": {},
   "outputs": [
    {
     "name": "stdout",
     "output_type": "stream",
     "text": [
      "{'Roll': 101}\n"
     ]
    }
   ],
   "source": [
    "py_data=json.loads('{\"Roll\":101}')\n",
    "print(py_data)"
   ]
  },
  {
   "cell_type": "code",
   "execution_count": 6,
   "metadata": {},
   "outputs": [
    {
     "name": "stdout",
     "output_type": "stream",
     "text": [
      "{'Roll': None}\n"
     ]
    }
   ],
   "source": [
    "py_data=json.loads('{\"Roll\":null}')\n",
    "print(py_data)"
   ]
  },
  {
   "cell_type": "code",
   "execution_count": 7,
   "metadata": {},
   "outputs": [
    {
     "name": "stdout",
     "output_type": "stream",
     "text": [
      "101\n"
     ]
    }
   ],
   "source": [
    "json_d='{\"Student\": {\"Name\":\"Mohit\",\"Roll\":101}}'\n",
    "py_data=json.loads(json_d)\n",
    "print(py_data[\"Student\"]['Roll'])"
   ]
  },
  {
   "cell_type": "code",
   "execution_count": 8,
   "metadata": {},
   "outputs": [
    {
     "name": "stdout",
     "output_type": "stream",
     "text": [
      "<class 'list'>\n",
      "Name\n",
      "age\n",
      "add\n"
     ]
    }
   ],
   "source": [
    "json_d='{\"Student\": [\"Name\",\"age\",\"add\"]}'\n",
    "py_data=json.loads(json_d)\n",
    "print(type(py_data[\"Student\"]))\n",
    "for i in py_data[\"Student\"]:\n",
    "    print(i)"
   ]
  },
  {
   "cell_type": "code",
   "execution_count": 9,
   "metadata": {},
   "outputs": [
    {
     "ename": "JSONDecodeError",
     "evalue": "Expecting value: line 1 column 1 (char 0)",
     "output_type": "error",
     "traceback": [
      "\u001b[1;31m---------------------------------------------------------------------------\u001b[0m",
      "\u001b[1;31mJSONDecodeError\u001b[0m                           Traceback (most recent call last)",
      "\u001b[1;32m<ipython-input-9-a9e37e573e96>\u001b[0m in \u001b[0;36m<module>\u001b[1;34m\u001b[0m\n\u001b[1;32m----> 1\u001b[1;33m \u001b[0mpy_d\u001b[0m\u001b[1;33m=\u001b[0m\u001b[0mjson\u001b[0m\u001b[1;33m.\u001b[0m\u001b[0mloads\u001b[0m\u001b[1;33m(\u001b[0m\u001b[0mre\u001b[0m\u001b[1;33m.\u001b[0m\u001b[0mtext\u001b[0m\u001b[1;33m)\u001b[0m\u001b[1;33m\u001b[0m\u001b[1;33m\u001b[0m\u001b[0m\n\u001b[0m\u001b[0;32m      2\u001b[0m \u001b[1;31m#print(py_d)\u001b[0m\u001b[1;33m\u001b[0m\u001b[1;33m\u001b[0m\u001b[1;33m\u001b[0m\u001b[0m\n\u001b[0;32m      3\u001b[0m \u001b[0mall_cor\u001b[0m\u001b[1;33m=\u001b[0m\u001b[0mpy_d\u001b[0m\u001b[1;33m[\u001b[0m\u001b[1;34m'data'\u001b[0m\u001b[1;33m]\u001b[0m\u001b[1;33m[\u001b[0m\u001b[1;34m'courses'\u001b[0m\u001b[1;33m]\u001b[0m\u001b[1;33m\u001b[0m\u001b[1;33m\u001b[0m\u001b[0m\n\u001b[0;32m      4\u001b[0m \u001b[1;32mfor\u001b[0m \u001b[0mi\u001b[0m \u001b[1;32min\u001b[0m \u001b[0mall_cor\u001b[0m\u001b[1;33m:\u001b[0m\u001b[1;33m\u001b[0m\u001b[1;33m\u001b[0m\u001b[0m\n\u001b[0;32m      5\u001b[0m     \u001b[1;31m#print(i['title'])\u001b[0m\u001b[1;33m\u001b[0m\u001b[1;33m\u001b[0m\u001b[1;33m\u001b[0m\u001b[0m\n",
      "\u001b[1;32m~\\anaconda3\\lib\\json\\__init__.py\u001b[0m in \u001b[0;36mloads\u001b[1;34m(s, cls, object_hook, parse_float, parse_int, parse_constant, object_pairs_hook, **kw)\u001b[0m\n\u001b[0;32m    355\u001b[0m             \u001b[0mparse_int\u001b[0m \u001b[1;32mis\u001b[0m \u001b[1;32mNone\u001b[0m \u001b[1;32mand\u001b[0m \u001b[0mparse_float\u001b[0m \u001b[1;32mis\u001b[0m \u001b[1;32mNone\u001b[0m \u001b[1;32mand\u001b[0m\u001b[1;33m\u001b[0m\u001b[1;33m\u001b[0m\u001b[0m\n\u001b[0;32m    356\u001b[0m             parse_constant is None and object_pairs_hook is None and not kw):\n\u001b[1;32m--> 357\u001b[1;33m         \u001b[1;32mreturn\u001b[0m \u001b[0m_default_decoder\u001b[0m\u001b[1;33m.\u001b[0m\u001b[0mdecode\u001b[0m\u001b[1;33m(\u001b[0m\u001b[0ms\u001b[0m\u001b[1;33m)\u001b[0m\u001b[1;33m\u001b[0m\u001b[1;33m\u001b[0m\u001b[0m\n\u001b[0m\u001b[0;32m    358\u001b[0m     \u001b[1;32mif\u001b[0m \u001b[0mcls\u001b[0m \u001b[1;32mis\u001b[0m \u001b[1;32mNone\u001b[0m\u001b[1;33m:\u001b[0m\u001b[1;33m\u001b[0m\u001b[1;33m\u001b[0m\u001b[0m\n\u001b[0;32m    359\u001b[0m         \u001b[0mcls\u001b[0m \u001b[1;33m=\u001b[0m \u001b[0mJSONDecoder\u001b[0m\u001b[1;33m\u001b[0m\u001b[1;33m\u001b[0m\u001b[0m\n",
      "\u001b[1;32m~\\anaconda3\\lib\\json\\decoder.py\u001b[0m in \u001b[0;36mdecode\u001b[1;34m(self, s, _w)\u001b[0m\n\u001b[0;32m    335\u001b[0m \u001b[1;33m\u001b[0m\u001b[0m\n\u001b[0;32m    336\u001b[0m         \"\"\"\n\u001b[1;32m--> 337\u001b[1;33m         \u001b[0mobj\u001b[0m\u001b[1;33m,\u001b[0m \u001b[0mend\u001b[0m \u001b[1;33m=\u001b[0m \u001b[0mself\u001b[0m\u001b[1;33m.\u001b[0m\u001b[0mraw_decode\u001b[0m\u001b[1;33m(\u001b[0m\u001b[0ms\u001b[0m\u001b[1;33m,\u001b[0m \u001b[0midx\u001b[0m\u001b[1;33m=\u001b[0m\u001b[0m_w\u001b[0m\u001b[1;33m(\u001b[0m\u001b[0ms\u001b[0m\u001b[1;33m,\u001b[0m \u001b[1;36m0\u001b[0m\u001b[1;33m)\u001b[0m\u001b[1;33m.\u001b[0m\u001b[0mend\u001b[0m\u001b[1;33m(\u001b[0m\u001b[1;33m)\u001b[0m\u001b[1;33m)\u001b[0m\u001b[1;33m\u001b[0m\u001b[1;33m\u001b[0m\u001b[0m\n\u001b[0m\u001b[0;32m    338\u001b[0m         \u001b[0mend\u001b[0m \u001b[1;33m=\u001b[0m \u001b[0m_w\u001b[0m\u001b[1;33m(\u001b[0m\u001b[0ms\u001b[0m\u001b[1;33m,\u001b[0m \u001b[0mend\u001b[0m\u001b[1;33m)\u001b[0m\u001b[1;33m.\u001b[0m\u001b[0mend\u001b[0m\u001b[1;33m(\u001b[0m\u001b[1;33m)\u001b[0m\u001b[1;33m\u001b[0m\u001b[1;33m\u001b[0m\u001b[0m\n\u001b[0;32m    339\u001b[0m         \u001b[1;32mif\u001b[0m \u001b[0mend\u001b[0m \u001b[1;33m!=\u001b[0m \u001b[0mlen\u001b[0m\u001b[1;33m(\u001b[0m\u001b[0ms\u001b[0m\u001b[1;33m)\u001b[0m\u001b[1;33m:\u001b[0m\u001b[1;33m\u001b[0m\u001b[1;33m\u001b[0m\u001b[0m\n",
      "\u001b[1;32m~\\anaconda3\\lib\\json\\decoder.py\u001b[0m in \u001b[0;36mraw_decode\u001b[1;34m(self, s, idx)\u001b[0m\n\u001b[0;32m    353\u001b[0m             \u001b[0mobj\u001b[0m\u001b[1;33m,\u001b[0m \u001b[0mend\u001b[0m \u001b[1;33m=\u001b[0m \u001b[0mself\u001b[0m\u001b[1;33m.\u001b[0m\u001b[0mscan_once\u001b[0m\u001b[1;33m(\u001b[0m\u001b[0ms\u001b[0m\u001b[1;33m,\u001b[0m \u001b[0midx\u001b[0m\u001b[1;33m)\u001b[0m\u001b[1;33m\u001b[0m\u001b[1;33m\u001b[0m\u001b[0m\n\u001b[0;32m    354\u001b[0m         \u001b[1;32mexcept\u001b[0m \u001b[0mStopIteration\u001b[0m \u001b[1;32mas\u001b[0m \u001b[0merr\u001b[0m\u001b[1;33m:\u001b[0m\u001b[1;33m\u001b[0m\u001b[1;33m\u001b[0m\u001b[0m\n\u001b[1;32m--> 355\u001b[1;33m             \u001b[1;32mraise\u001b[0m \u001b[0mJSONDecodeError\u001b[0m\u001b[1;33m(\u001b[0m\u001b[1;34m\"Expecting value\"\u001b[0m\u001b[1;33m,\u001b[0m \u001b[0ms\u001b[0m\u001b[1;33m,\u001b[0m \u001b[0merr\u001b[0m\u001b[1;33m.\u001b[0m\u001b[0mvalue\u001b[0m\u001b[1;33m)\u001b[0m \u001b[1;32mfrom\u001b[0m \u001b[1;32mNone\u001b[0m\u001b[1;33m\u001b[0m\u001b[1;33m\u001b[0m\u001b[0m\n\u001b[0m\u001b[0;32m    356\u001b[0m         \u001b[1;32mreturn\u001b[0m \u001b[0mobj\u001b[0m\u001b[1;33m,\u001b[0m \u001b[0mend\u001b[0m\u001b[1;33m\u001b[0m\u001b[1;33m\u001b[0m\u001b[0m\n",
      "\u001b[1;31mJSONDecodeError\u001b[0m: Expecting value: line 1 column 1 (char 0)"
     ]
    }
   ],
   "source": [
    "py_d=json.loads(re.text)\n",
    "#print(py_d)\n",
    "all_cor=py_d['data']['courses']\n",
    "for i in all_cor:\n",
    "    #print(i['title'])\n",
    "    if(i['available_online']==True):\n",
    "        print(i['name'].strip())"
   ]
  },
  {
   "cell_type": "code",
   "execution_count": 10,
   "metadata": {},
   "outputs": [
    {
     "name": "stdout",
     "output_type": "stream",
     "text": [
      "<class 'dict'>\n"
     ]
    }
   ],
   "source": [
    "p= requests.get('https://dog.ceo/api/breeds/list/all')\n",
    "pyd=p.json()\n",
    "print(type(pyd))"
   ]
  },
  {
   "cell_type": "code",
   "execution_count": 11,
   "metadata": {},
   "outputs": [
    {
     "name": "stdout",
     "output_type": "stream",
     "text": [
      "affenpinscher  :  0\n",
      "african  :  0\n",
      "airedale  :  0\n",
      "akita  :  0\n",
      "appenzeller  :  0\n",
      "australian  :  1\n",
      "basenji  :  0\n",
      "beagle  :  0\n",
      "bluetick  :  0\n",
      "borzoi  :  0\n",
      "bouvier  :  0\n",
      "boxer  :  0\n",
      "brabancon  :  0\n",
      "briard  :  0\n",
      "buhund  :  1\n",
      "bulldog  :  3\n",
      "bullterrier  :  1\n",
      "cattledog  :  1\n",
      "chihuahua  :  0\n",
      "chow  :  0\n",
      "clumber  :  0\n",
      "cockapoo  :  0\n",
      "collie  :  1\n",
      "coonhound  :  0\n",
      "corgi  :  1\n",
      "cotondetulear  :  0\n",
      "dachshund  :  0\n",
      "dalmatian  :  0\n",
      "dane  :  1\n",
      "deerhound  :  1\n",
      "dhole  :  0\n",
      "dingo  :  0\n",
      "doberman  :  0\n",
      "elkhound  :  1\n",
      "entlebucher  :  0\n",
      "eskimo  :  0\n",
      "finnish  :  1\n",
      "frise  :  1\n",
      "germanshepherd  :  0\n",
      "greyhound  :  1\n",
      "groenendael  :  0\n",
      "havanese  :  0\n",
      "hound  :  7\n",
      "husky  :  0\n",
      "keeshond  :  0\n",
      "kelpie  :  0\n",
      "komondor  :  0\n",
      "kuvasz  :  0\n",
      "labradoodle  :  0\n",
      "labrador  :  0\n",
      "leonberg  :  0\n",
      "lhasa  :  0\n",
      "malamute  :  0\n",
      "malinois  :  0\n",
      "maltese  :  0\n",
      "mastiff  :  3\n",
      "mexicanhairless  :  0\n",
      "mix  :  0\n",
      "mountain  :  2\n",
      "newfoundland  :  0\n",
      "otterhound  :  0\n",
      "ovcharka  :  1\n",
      "papillon  :  0\n",
      "pekinese  :  0\n",
      "pembroke  :  0\n",
      "pinscher  :  1\n",
      "pitbull  :  0\n",
      "pointer  :  2\n",
      "pomeranian  :  0\n",
      "poodle  :  3\n",
      "pug  :  0\n",
      "puggle  :  0\n",
      "pyrenees  :  0\n",
      "redbone  :  0\n",
      "retriever  :  4\n",
      "ridgeback  :  1\n",
      "rottweiler  :  0\n",
      "saluki  :  0\n",
      "samoyed  :  0\n",
      "schipperke  :  0\n",
      "schnauzer  :  2\n",
      "setter  :  3\n",
      "sheepdog  :  2\n",
      "shiba  :  0\n",
      "shihtzu  :  0\n",
      "spaniel  :  7\n",
      "springer  :  1\n",
      "stbernard  :  0\n",
      "terrier  :  23\n",
      "tervuren  :  0\n",
      "vizsla  :  0\n",
      "waterdog  :  1\n",
      "weimaraner  :  0\n",
      "whippet  :  0\n",
      "wolfhound  :  1\n"
     ]
    }
   ],
   "source": [
    "for key,val in pyd['message'].items() :\n",
    "    print(key,\" : \",len(val))"
   ]
  },
  {
   "cell_type": "code",
   "execution_count": 12,
   "metadata": {},
   "outputs": [
    {
     "name": "stdout",
     "output_type": "stream",
     "text": [
      "9\n",
      "8\n",
      "3\n"
     ]
    }
   ],
   "source": [
    "for i in pyd['message']['poodle']:\n",
    "    print(len(i))"
   ]
  },
  {
   "cell_type": "code",
   "execution_count": 13,
   "metadata": {},
   "outputs": [
    {
     "name": "stdout",
     "output_type": "stream",
     "text": [
      "https://api.openaq.org/v1/cities?country=US&locations=1&limit=12\n",
      "{'meta': {'name': 'openaq-api', 'license': 'CC BY 4.0d', 'website': 'https://u50g7n0cbj.execute-api.us-east-1.amazonaws.com/', 'page': 1, 'limit': 12, 'found': 810}, 'results': [{'country': 'US', 'name': '007', 'city': '007', 'count': 1372, 'locations': 5}, {'country': 'US', 'name': '019', 'city': '019', 'count': 704, 'locations': 1}, {'country': 'US', 'name': '037', 'city': '037', 'count': 2683, 'locations': 23}, {'country': 'US', 'name': '039', 'city': '039', 'count': 380, 'locations': 1}, {'country': 'US', 'name': '047', 'city': '047', 'count': 101, 'locations': 1}, {'country': 'US', 'name': '051', 'city': '051', 'count': 330, 'locations': 7}, {'country': 'US', 'name': '077', 'city': '077', 'count': 670334, 'locations': 1}, {'country': 'US', 'name': 'ABBEVILLE', 'city': 'ABBEVILLE', 'count': 4619, 'locations': 1}, {'country': 'US', 'name': 'Aberdeen', 'city': 'Aberdeen', 'count': 43018851, 'locations': 2}, {'country': 'US', 'name': 'ADA', 'city': 'ADA', 'count': 29956005, 'locations': 2}, {'country': 'US', 'name': 'ADAIR', 'city': 'ADAIR', 'count': 32778896, 'locations': 1}, {'country': 'US', 'name': 'ADAMS', 'city': 'ADAMS', 'count': 28230007, 'locations': 2}]}\n"
     ]
    }
   ],
   "source": [
    "p= requests.get('https://api.openaq.org/v1/cities',params={'country':'US','locations':1,'limit':12})\n",
    "print(p.url)\n",
    "pyd=p.json()\n",
    "print(pyd)"
   ]
  },
  {
   "cell_type": "code",
   "execution_count": 18,
   "metadata": {},
   "outputs": [
    {
     "name": "stdout",
     "output_type": "stream",
     "text": [
      "https://codingninjas.in/api/v3/courses?id=19\n"
     ]
    }
   ],
   "source": [
    "re=requests.get('https://codingninjas.in/api/v3/courses',params={'id': 19})\n",
    "print(re.url)                                                                        "
   ]
  },
  {
   "cell_type": "code",
   "execution_count": 5,
   "metadata": {},
   "outputs": [
    {
     "name": "stdout",
     "output_type": "stream",
     "text": [
      "403\n"
     ]
    }
   ],
   "source": [
    "re=requests.get('https://www.metaweather.com/api/location/search/')\n",
    "print(re.status_code) #here 403 as this api needs params"
   ]
  },
  {
   "cell_type": "code",
   "execution_count": 17,
   "metadata": {},
   "outputs": [
    {
     "name": "stdout",
     "output_type": "stream",
     "text": [
      "200\n",
      "https://www.metaweather.com/api/location/search/?query=USA\n",
      "1132447\n"
     ]
    }
   ],
   "source": [
    "re=requests.get('https://www.metaweather.com/api/location/search/',{'query':'USA'})\n",
    "print(re.status_code)\n",
    "print(re.url)\n",
    "df=re.json()\n",
    "print(df[0]['woeid'])"
   ]
  },
  {
   "cell_type": "code",
   "execution_count": 9,
   "metadata": {},
   "outputs": [
    {
     "name": "stdout",
     "output_type": "stream",
     "text": [
      "200\n",
      "https://api.nasa.gov/planetary/apod?api_key=DEMO_KEY\n"
     ]
    }
   ],
   "source": [
    "re=requests.get('https://api.nasa.gov/planetary/apod',params={\"api_key\":\"DEMO_KEY\"})\n",
    "print(re.status_code)\n",
    "print(re.url)\n"
   ]
  },
  {
   "cell_type": "code",
   "execution_count": 10,
   "metadata": {},
   "outputs": [
    {
     "name": "stdout",
     "output_type": "stream",
     "text": [
      "200\n",
      "https://api.nasa.gov/planetary/apod?api_key=Jw32bNurNJoZpe4s07dlo3PEYoA2NLnRQicQQuQe\n"
     ]
    }
   ],
   "source": [
    "re=requests.get('https://api.nasa.gov/planetary/apod',params={\"api_key\":\"Jw32bNurNJoZpe4s07dlo3PEYoA2NLnRQicQQuQe\"})\n",
    "print(re.status_code)\n",
    "print(re.url)"
   ]
  },
  {
   "cell_type": "code",
   "execution_count": 4,
   "metadata": {},
   "outputs": [
    {
     "name": "stdout",
     "output_type": "stream",
     "text": [
      "200\n",
      "https://holidayapi.com/v1/holidays?pretty&key=8f566267-37db-4baa-b112-b95d26d029a8&country=IN&year=2021\n"
     ]
    }
   ],
   "source": [
    "re=requests.get('https://holidayapi.com/v1/holidays?pretty&key=8f566267-37db-4baa-b112-b95d26d029a8&country=IN&year=2021')\n",
    "print(re.status_code)\n",
    "print(re.url)"
   ]
  },
  {
   "cell_type": "code",
   "execution_count": 7,
   "metadata": {},
   "outputs": [
    {
     "name": "stdout",
     "output_type": "stream",
     "text": [
      "Apache License 2.0\n"
     ]
    }
   ],
   "source": [
    "from requests.auth import HTTPBasicAuth\n",
    "re=requests.get(\"https://api.github.com/\"+\"repos/google/go-cloud\",auth=('codingninjas123','cnninjas123'))\n",
    "print(re.json().get('license').get('name'))\n",
    "#for i in re.json():\n",
    "    #print(i)"
   ]
  },
  {
   "cell_type": "code",
   "execution_count": 9,
   "metadata": {},
   "outputs": [
    {
     "name": "stdout",
     "output_type": "stream",
     "text": [
      "names\n"
     ]
    }
   ],
   "source": [
    "header={\"Accept\":\"application/vnd.github.mercy-preview+json\"}\n",
    "re=requests.get(\"https://api.github.com/\"+\"repos/google/clusterfuzz/topics\",auth=('codingninjas123','cnninjas123'),headers=header)\n",
    "#print(re.json().get('license').get('name'))\n",
    "for i in re.json():\n",
    "    print(i)"
   ]
  },
  {
   "cell_type": "code",
   "execution_count": null,
   "metadata": {},
   "outputs": [],
   "source": []
  }
 ],
 "metadata": {
  "kernelspec": {
   "display_name": "Python 3",
   "language": "python",
   "name": "python3"
  },
  "language_info": {
   "codemirror_mode": {
    "name": "ipython",
    "version": 3
   },
   "file_extension": ".py",
   "mimetype": "text/x-python",
   "name": "python",
   "nbconvert_exporter": "python",
   "pygments_lexer": "ipython3",
   "version": "3.8.3"
  }
 },
 "nbformat": 4,
 "nbformat_minor": 4
}
